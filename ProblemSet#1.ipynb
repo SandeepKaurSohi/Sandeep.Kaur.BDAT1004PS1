{
 "cells": [
  {
   "cell_type": "markdown",
   "id": "3e19e9c0-2659-4b48-9a69-c302bf53e0fc",
   "metadata": {
    "jp-MarkdownHeadingCollapsed": true
   },
   "source": [
    "# Question 1 \n",
    "|Data Types|    \n",
    "|-----------------------------|\n",
    "|5   - int (Refers to Integer)|\n",
    "|5.0 - Double(floating-point number)|\n",
    "|5>1 - bool(boolen expression)|\n",
    "|'5' - char(character)|\n",
    "|5*2 - int(integer)|\n",
    "|'5'*2 -This would give a complie error as can't multiply charachers in C#|\n",
    "|'5'+'2'-string (string concatenation result in string)|\n",
    "|5/2-int(int(integer division result= 2)|\n",
    "|5%2- int(modulus operator results = 1)|\n",
    "|{5,2,1}- int[] (indecates array of integers)|\n",
    "|5==3 - bool(boolean expression)|\n",
    "|Pi(the number)- double(in Math.Pi, will repesent the value of pi ) |"
   ]
  },
  {
   "cell_type": "markdown",
   "id": "e830969e-3233-4522-8f91-a9c4f04cc998",
   "metadata": {},
   "source": [
    "# Question 2\n",
    "a)"
   ]
  },
  {
   "cell_type": "code",
   "execution_count": null,
   "id": "3b8dedac-792c-4adb-bd5e-b6a5e7f8a158",
   "metadata": {},
   "outputs": [],
   "source": [
    "string word= \"Supercalifragilisticexpialidocious\";\n",
    "Console.WriteLine(\"The length of the word is:\" + word.Length);"
   ]
  },
  {
   "cell_type": "markdown",
   "id": "dd510bbc-5ee8-42cb-ac95-d5e6a14d3fd9",
   "metadata": {},
   "source": [
    "# Question 3"
   ]
  },
  {
   "cell_type": "code",
   "execution_count": null,
   "id": "5718db7c-c4db-4084-851b-bd72acd92a23",
   "metadata": {},
   "outputs": [],
   "source": [
    "double triangleArea(double a, double b, double c)\n",
    "{\n",
    "    double s = ()a + b + c) / 2;\n",
    "    double area = Math.Sqrt(s*(s-a)* (s-b)* (s-c));\n",
    "    return area;\n",
    "}\n",
    "\n",
    "double area = triangleArea(2,2,2);\n",
    "Console.WriteLine(area);\n"
   ]
  }
 ],
 "metadata": {
  "kernelspec": {
   "display_name": "Python 3 (ipykernel)",
   "language": "python",
   "name": "python3"
  },
  "language_info": {
   "codemirror_mode": {
    "name": "ipython",
    "version": 3
   },
   "file_extension": ".py",
   "mimetype": "text/x-python",
   "name": "python",
   "nbconvert_exporter": "python",
   "pygments_lexer": "ipython3",
   "version": "3.12.4"
  }
 },
 "nbformat": 4,
 "nbformat_minor": 5
}
